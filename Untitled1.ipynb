{
 "cells": [
  {
   "cell_type": "code",
   "execution_count": 1,
   "id": "6d559731",
   "metadata": {},
   "outputs": [],
   "source": [
    "import sympy\n",
    "sympy.init_printing()"
   ]
  },
  {
   "cell_type": "code",
   "execution_count": 2,
   "id": "938ceaf2",
   "metadata": {},
   "outputs": [],
   "source": [
    "(R, X1, X2, X3, X4, X5, X6, X7, X8, Y,\n",
    " G1, G2, G3, H1, H2, H3) = sympy.symbols('R, X1, X2, X3, X4, X5, X6, X7, X8, Y,'\n",
    "                                         'G1, G2, G3, H1, H2, H3')\n",
    "incognitas = X1, X2, X3, X4, X5, X6, X7, X8, Y"
   ]
  },
  {
   "cell_type": "code",
   "execution_count": 3,
   "id": "b5a18dd2",
   "metadata": {},
   "outputs": [
    {
     "name": "stderr",
     "output_type": "stream",
     "text": [
      "C:\\ProgramData\\Anaconda3\\lib\\site-packages\\IPython\\lib\\latextools.py:126: MatplotlibDeprecationWarning: \n",
      "The to_png function was deprecated in Matplotlib 3.4 and will be removed two minor releases later. Use mathtext.math_to_image instead.\n",
      "  mt.to_png(f, s, fontsize=12, dpi=dpi, color=color)\n",
      "C:\\ProgramData\\Anaconda3\\lib\\site-packages\\IPython\\lib\\latextools.py:126: MatplotlibDeprecationWarning: \n",
      "The to_rgba function was deprecated in Matplotlib 3.4 and will be removed two minor releases later. Use mathtext.math_to_image instead.\n",
      "  mt.to_png(f, s, fontsize=12, dpi=dpi, color=color)\n",
      "C:\\ProgramData\\Anaconda3\\lib\\site-packages\\IPython\\lib\\latextools.py:126: MatplotlibDeprecationWarning: \n",
      "The to_mask function was deprecated in Matplotlib 3.4 and will be removed two minor releases later. Use mathtext.math_to_image instead.\n",
      "  mt.to_png(f, s, fontsize=12, dpi=dpi, color=color)\n",
      "C:\\ProgramData\\Anaconda3\\lib\\site-packages\\IPython\\lib\\latextools.py:126: MatplotlibDeprecationWarning: \n",
      "The MathtextBackendBitmap class was deprecated in Matplotlib 3.4 and will be removed two minor releases later. Use mathtext.math_to_image instead.\n",
      "  mt.to_png(f, s, fontsize=12, dpi=dpi, color=color)\n"
     ]
    },
    {
     "data": {
      "image/png": "[encoded data removed]",
      "text/latex": [
       "$\\displaystyle \\left[ - G_{3} X_{5} + Y, \\  - G_{1} X_{1} + X_{2}, \\  - H_{1} X_{5} + X_{8}, \\  - G_{2} X_{4} + X_{5}, \\  - X_{2} + X_{3} + X_{7}, \\  - X_{3} + X_{4} + X_{6}, \\  - R + X_{1} + X_{8}, \\  - H_{2} X_{5} + X_{7}, \\  - H_{3} Y + X_{6}\\right]$"
      ],
      "text/plain": [
       "[-G₃⋅X₅ + Y, -G₁⋅X₁ + X₂, -H₁⋅X₅ + X₈, -G₂⋅X₄ + X₅, -X₂ + X₃ + X₇, -X₃ + X₄ + \n",
       "X₆, -R + X₁ + X₈, -H₂⋅X₅ + X₇, -H₃⋅Y + X₆]"
      ]
     },
     "execution_count": 3,
     "metadata": {},
     "output_type": "execute_result"
    }
   ],
   "source": [
    "ecs = [# bloques\n",
    "       Y - X5*G3,\n",
    "       X2 - X1*G1,\n",
    "       X8 - X5*H1,\n",
    "       X5 - X4*G2,\n",
    "       X3 - (X2 - X7),\n",
    "       X4 - (X3 - X6),\n",
    "       X1 - (R - X8),\n",
    "       X7 - X5*H2,\n",
    "       X6 - H3*Y,\n",
    "\n",
    "       ]\n",
    "ecs"
   ]
  },
  {
   "cell_type": "code",
   "execution_count": 4,
   "id": "d4985541",
   "metadata": {},
   "outputs": [
    {
     "data": {
      "image/png": "[encoded data removed]",
      "text/latex": [
       "$\\displaystyle \\left\\{ X_{1} : \\frac{G_{2} G_{3} H_{3} R + G_{2} H_{2} R + R}{G_{1} G_{2} H_{1} + G_{2} G_{3} H_{3} + G_{2} H_{2} + 1}, \\  X_{2} : \\frac{G_{1} G_{2} G_{3} H_{3} R + G_{1} G_{2} H_{2} R + G_{1} R}{G_{1} G_{2} H_{1} + G_{2} G_{3} H_{3} + G_{2} H_{2} + 1}, \\  X_{3} : \\frac{G_{1} G_{2} G_{3} H_{3} R + G_{1} R}{G_{1} G_{2} H_{1} + G_{2} G_{3} H_{3} + G_{2} H_{2} + 1}, \\  X_{4} : \\frac{G_{1} R}{G_{1} G_{2} H_{1} + G_{2} G_{3} H_{3} + G_{2} H_{2} + 1}, \\  X_{5} : \\frac{G_{1} G_{2} R}{G_{1} G_{2} H_{1} + G_{2} G_{3} H_{3} + G_{2} H_{2} + 1}, \\  X_{6} : \\frac{G_{1} G_{2} G_{3} H_{3} R}{G_{1} G_{2} H_{1} + G_{2} G_{3} H_{3} + G_{2} H_{2} + 1}, \\  X_{7} : \\frac{G_{1} G_{2} H_{2} R}{G_{1} G_{2} H_{1} + G_{2} G_{3} H_{3} + G_{2} H_{2} + 1}, \\  X_{8} : \\frac{G_{1} G_{2} H_{1} R}{G_{1} G_{2} H_{1} + G_{2} G_{3} H_{3} + G_{2} H_{2} + 1}, \\  Y : \\frac{G_{1} G_{2} G_{3} R}{G_{1} G_{2} H_{1} + G_{2} G_{3} H_{3} + G_{2} H_{2} + 1}\\right\\}$"
      ],
      "text/plain": [
       "⎧        G₂⋅G₃⋅H₃⋅R + G₂⋅H₂⋅R + R         G₁⋅G₂⋅G₃⋅H₃⋅R + G₁⋅G₂⋅H₂⋅R + G₁⋅R   \n",
       "⎨X₁: ───────────────────────────────, X₂: ─────────────────────────────────, X\n",
       "⎩    G₁⋅G₂⋅H₁ + G₂⋅G₃⋅H₃ + G₂⋅H₂ + 1       G₁⋅G₂⋅H₁ + G₂⋅G₃⋅H₃ + G₂⋅H₂ + 1    \n",
       "\n",
       "         G₁⋅G₂⋅G₃⋅H₃⋅R + G₁⋅R                         G₁⋅R                    \n",
       "₃: ───────────────────────────────, X₄: ───────────────────────────────, X₅: ─\n",
       "   G₁⋅G₂⋅H₁ + G₂⋅G₃⋅H₃ + G₂⋅H₂ + 1      G₁⋅G₂⋅H₁ + G₂⋅G₃⋅H₃ + G₂⋅H₂ + 1      G\n",
       "\n",
       "           G₁⋅G₂⋅R                           G₁⋅G₂⋅G₃⋅H₃⋅R                    \n",
       "──────────────────────────────, X₆: ───────────────────────────────, X₇: ─────\n",
       "₁⋅G₂⋅H₁ + G₂⋅G₃⋅H₃ + G₂⋅H₂ + 1      G₁⋅G₂⋅H₁ + G₂⋅G₃⋅H₃ + G₂⋅H₂ + 1      G₁⋅G₂\n",
       "\n",
       "      G₁⋅G₂⋅H₂⋅R                           G₁⋅G₂⋅H₁⋅R                         \n",
       "──────────────────────────, X₈: ───────────────────────────────, Y: ──────────\n",
       "⋅H₁ + G₂⋅G₃⋅H₃ + G₂⋅H₂ + 1      G₁⋅G₂⋅H₁ + G₂⋅G₃⋅H₃ + G₂⋅H₂ + 1     G₁⋅G₂⋅H₁ +\n",
       "\n",
       " G₁⋅G₂⋅G₃⋅R          ⎫\n",
       "─────────────────────⎬\n",
       " G₂⋅G₃⋅H₃ + G₂⋅H₂ + 1⎭"
      ]
     },
     "execution_count": 4,
     "metadata": {},
     "output_type": "execute_result"
    }
   ],
   "source": [
    "solucion = sympy.solve(ecs, incognitas)\n",
    "solucion"
   ]
  },
  {
   "cell_type": "code",
   "execution_count": 7,
   "id": "54b22e25",
   "metadata": {},
   "outputs": [
    {
     "data": {
      "image/png": "[encoded data removed]",
      "text/latex": [
       "$\\displaystyle \\frac{G_{1} G_{2} G_{3} R}{G_{1} G_{2} H_{1} + G_{2} G_{3} H_{3} + G_{2} H_{2} + 1}$"
      ],
      "text/plain": [
       "           G₁⋅G₂⋅G₃⋅R          \n",
       "───────────────────────────────\n",
       "G₁⋅G₂⋅H₁ + G₂⋅G₃⋅H₃ + G₂⋅H₂ + 1"
      ]
     },
     "execution_count": 7,
     "metadata": {},
     "output_type": "execute_result"
    }
   ],
   "source": [
    "solucion[Y].factor()"
   ]
  },
  {
   "cell_type": "code",
   "execution_count": null,
   "id": "b2746a39",
   "metadata": {},
   "outputs": [],
   "source": []
  }
 ],
 "metadata": {
  "kernelspec": {
   "display_name": "Python 3 (ipykernel)",
   "language": "python",
   "name": "python3"
  },
  "language_info": {
   "codemirror_mode": {
    "name": "ipython",
    "version": 3
   },
   "file_extension": ".py",
   "mimetype": "text/x-python",
   "name": "python",
   "nbconvert_exporter": "python",
   "pygments_lexer": "ipython3",
   "version": "3.9.7"
  }
 },
 "nbformat": 4,
 "nbformat_minor": 5
}
