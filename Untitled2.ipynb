{
 "cells": [
  {
   "cell_type": "code",
   "execution_count": 2,
   "id": "d61d3292",
   "metadata": {},
   "outputs": [],
   "source": [
    "\n",
    "import numpy as np\n",
    "import sympy as sym\n",
    "import matplotlib.pyplot as plt\n",
    "%matplotlib inline\n",
    "import control"
   ]
  },
  {
   "cell_type": "code",
   "execution_count": 15,
   "id": "cf1c8286",
   "metadata": {},
   "outputs": [
    {
     "data": {
      "text/latex": [
       "$$\\frac{s + 3}{s^2 + 3 s + 2}$$"
      ],
      "text/plain": [
       "TransferFunction(array([1, 3]), array([1, 3, 2]))"
      ]
     },
     "execution_count": 15,
     "metadata": {},
     "output_type": "execute_result"
    }
   ],
   "source": [
    "# Se define la función de transferencia del proceso\n",
    "Gp = control.tf([1,3],[1,3,2])\n",
    "Gp"
   ]
  },
  {
   "cell_type": "code",
   "execution_count": 16,
   "id": "c773edd0",
   "metadata": {},
   "outputs": [
    {
     "data": {
      "text/plain": [
       "array([-2., -1.])"
      ]
     },
     "execution_count": 16,
     "metadata": {},
     "output_type": "execute_result"
    }
   ],
   "source": [
    "(Gp).pole()"
   ]
  },
  {
   "cell_type": "code",
   "execution_count": 17,
   "id": "9cbff955",
   "metadata": {},
   "outputs": [
    {
     "data": {
      "text/plain": [
       "array([-3.])"
      ]
     },
     "execution_count": 17,
     "metadata": {},
     "output_type": "execute_result"
    }
   ],
   "source": [
    "ceros = Gp.zero()\n",
    "ceros"
   ]
  },
  {
   "cell_type": "code",
   "execution_count": 18,
   "id": "cd01bcf5",
   "metadata": {},
   "outputs": [
    {
     "data": {
      "text/plain": [
       "array([-2., -1.])"
      ]
     },
     "execution_count": 18,
     "metadata": {},
     "output_type": "execute_result"
    }
   ],
   "source": [
    "polos = Gp.pole()\n",
    "polos"
   ]
  },
  {
   "cell_type": "code",
   "execution_count": 20,
   "id": "11397501",
   "metadata": {},
   "outputs": [
    {
     "name": "stdout",
     "output_type": "stream",
     "text": [
      "Collecting tbcontrol\n",
      "  Downloading tbcontrol-0.2.1-py3-none-any.whl (24 kB)\n",
      "Requirement already satisfied: packaging in c:\\programdata\\anaconda3\\lib\\site-packages (from tbcontrol) (21.0)\n",
      "Requirement already satisfied: scipy in c:\\programdata\\anaconda3\\lib\\site-packages (from tbcontrol) (1.7.1)\n",
      "Requirement already satisfied: tqdm in c:\\programdata\\anaconda3\\lib\\site-packages (from tbcontrol) (4.62.3)\n",
      "Requirement already satisfied: numpy in c:\\programdata\\anaconda3\\lib\\site-packages (from tbcontrol) (1.20.3)\n",
      "Requirement already satisfied: pyparsing>=2.0.2 in c:\\programdata\\anaconda3\\lib\\site-packages (from packaging->tbcontrol) (3.0.4)\n",
      "Requirement already satisfied: colorama in c:\\programdata\\anaconda3\\lib\\site-packages (from tqdm->tbcontrol) (0.4.4)\n",
      "Installing collected packages: tbcontrol\n",
      "Successfully installed tbcontrol-0.2.1\n",
      "Note: you may need to restart the kernel to use updated packages.\n"
     ]
    }
   ],
   "source": [
    "pip install tbcontrol"
   ]
  },
  {
   "cell_type": "code",
   "execution_count": 21,
   "id": "2b5c9c63",
   "metadata": {},
   "outputs": [
    {
     "name": "stdout",
     "output_type": "stream",
     "text": [
      "Help on function routh in module tbcontrol.symbolic:\n",
      "\n",
      "routh(p)\n",
      "    Construct the Routh-Hurwitz array given a polynomial in s\n",
      "    \n",
      "    Input: p - a sympy.Poly object\n",
      "    Output: The Routh-Hurwitz array as a sympy.Matrix object\n",
      "\n"
     ]
    }
   ],
   "source": [
    "from tbcontrol.symbolic import routh\n",
    "help(routh)"
   ]
  },
  {
   "cell_type": "code",
   "execution_count": 23,
   "id": "94114f8d",
   "metadata": {},
   "outputs": [
    {
     "data": {
      "text/latex": [
       "$\\displaystyle \\operatorname{Poly}{\\left( a_{6} s^{6} + a_{5} s^{5} + a_{4} s^{4} + a_{3} s^{3} + a_{2} s^{2} + a_{1} s + a_{0}, s, domain=\\mathbb{Z}\\left[a_{0}, a_{1}, a_{2}, a_{3}, a_{4}, a_{5}, a_{6}\\right] \\right)}$"
      ],
      "text/plain": [
       "Poly(a_6*s**6 + a_5*s**5 + a_4*s**4 + a_3*s**3 + a_2*s**2 + a_1*s + a_0, s, domain='ZZ[a_0,a_1,a_2,a_3,a_4,a_5,a_6]')"
      ]
     },
     "execution_count": 23,
     "metadata": {},
     "output_type": "execute_result"
    }
   ],
   "source": [
    "s = sym.Symbol('s')\n",
    "a0, a1, a2, a3, a4,a5,a6,a7,a8,a9,a10 = sym.symbols('a_0:11')\n",
    "p = (a0 + a1*s**1 + a2*s**2 + a3*s**3 + a4*s**4 + a5*s**5 + \n",
    "     a6*s**6)\n",
    "p = sym.Poly(p, s)\n",
    "p\n"
   ]
  },
  {
   "cell_type": "code",
   "execution_count": 24,
   "id": "9b308550",
   "metadata": {},
   "outputs": [
    {
     "data": {
      "text/latex": [
       "$\\displaystyle \\left[\\begin{matrix}a_{6} & a_{4} & a_{2} & a_{0}\\\\a_{5} & a_{3} & a_{1} & 0\\\\- \\frac{a_{3} a_{6}}{a_{5}} + a_{4} & - \\frac{a_{1} a_{6}}{a_{5}} + a_{2} & a_{0} & 0\\\\\\frac{- a_{1} a_{5} a_{6} + a_{2} a_{5}^{2} + a_{3}^{2} a_{6} - a_{3} a_{4} a_{5}}{a_{3} a_{6} - a_{4} a_{5}} & \\frac{a_{0} a_{5}^{2} + a_{1} a_{3} a_{6} - a_{1} a_{4} a_{5}}{a_{3} a_{6} - a_{4} a_{5}} & 0 & 0\\\\\\frac{- a_{0} a_{3} a_{5} a_{6} + a_{0} a_{4} a_{5}^{2} - a_{1}^{2} a_{6}^{2} + 2 a_{1} a_{2} a_{5} a_{6} + a_{1} a_{3} a_{4} a_{6} - a_{1} a_{4}^{2} a_{5} - a_{2}^{2} a_{5}^{2} - a_{2} a_{3}^{2} a_{6} + a_{2} a_{3} a_{4} a_{5}}{a_{1} a_{5} a_{6} - a_{2} a_{5}^{2} - a_{3}^{2} a_{6} + a_{3} a_{4} a_{5}} & a_{0} & 0 & 0\\\\\\frac{a_{0}^{2} a_{5}^{3} + 3 a_{0} a_{1} a_{3} a_{5} a_{6} - 2 a_{0} a_{1} a_{4} a_{5}^{2} - a_{0} a_{2} a_{3} a_{5}^{2} - a_{0} a_{3}^{3} a_{6} + a_{0} a_{3}^{2} a_{4} a_{5} + a_{1}^{3} a_{6}^{2} - 2 a_{1}^{2} a_{2} a_{5} a_{6} - a_{1}^{2} a_{3} a_{4} a_{6} + a_{1}^{2} a_{4}^{2} a_{5} + a_{1} a_{2}^{2} a_{5}^{2} + a_{1} a_{2} a_{3}^{2} a_{6} - a_{1} a_{2} a_{3} a_{4} a_{5}}{a_{0} a_{3} a_{5} a_{6} - a_{0} a_{4} a_{5}^{2} + a_{1}^{2} a_{6}^{2} - 2 a_{1} a_{2} a_{5} a_{6} - a_{1} a_{3} a_{4} a_{6} + a_{1} a_{4}^{2} a_{5} + a_{2}^{2} a_{5}^{2} + a_{2} a_{3}^{2} a_{6} - a_{2} a_{3} a_{4} a_{5}} & 0 & 0 & 0\\\\a_{0} & 0 & 0 & 0\\end{matrix}\\right]$"
      ],
      "text/plain": [
       "Matrix([\n",
       "[                                                                                                                                                                                                                                                                                                                                                                                                                                  a_6,                                                          a_4, a_2, a_0],\n",
       "[                                                                                                                                                                                                                                                                                                                                                                                                                                  a_5,                                                          a_3, a_1,   0],\n",
       "[                                                                                                                                                                                                                                                                                                                                                                                                                   -a_3*a_6/a_5 + a_4,                                           -a_1*a_6/a_5 + a_2, a_0,   0],\n",
       "[                                                                                                                                                                                                                                                                                                                                                           (-a_1*a_5*a_6 + a_2*a_5**2 + a_3**2*a_6 - a_3*a_4*a_5)/(a_3*a_6 - a_4*a_5), (a_0*a_5**2 + a_1*a_3*a_6 - a_1*a_4*a_5)/(a_3*a_6 - a_4*a_5),   0,   0],\n",
       "[                                                                                                                                                                                                                  (-a_0*a_3*a_5*a_6 + a_0*a_4*a_5**2 - a_1**2*a_6**2 + 2*a_1*a_2*a_5*a_6 + a_1*a_3*a_4*a_6 - a_1*a_4**2*a_5 - a_2**2*a_5**2 - a_2*a_3**2*a_6 + a_2*a_3*a_4*a_5)/(a_1*a_5*a_6 - a_2*a_5**2 - a_3**2*a_6 + a_3*a_4*a_5),                                                          a_0,   0,   0],\n",
       "[(a_0**2*a_5**3 + 3*a_0*a_1*a_3*a_5*a_6 - 2*a_0*a_1*a_4*a_5**2 - a_0*a_2*a_3*a_5**2 - a_0*a_3**3*a_6 + a_0*a_3**2*a_4*a_5 + a_1**3*a_6**2 - 2*a_1**2*a_2*a_5*a_6 - a_1**2*a_3*a_4*a_6 + a_1**2*a_4**2*a_5 + a_1*a_2**2*a_5**2 + a_1*a_2*a_3**2*a_6 - a_1*a_2*a_3*a_4*a_5)/(a_0*a_3*a_5*a_6 - a_0*a_4*a_5**2 + a_1**2*a_6**2 - 2*a_1*a_2*a_5*a_6 - a_1*a_3*a_4*a_6 + a_1*a_4**2*a_5 + a_2**2*a_5**2 + a_2*a_3**2*a_6 - a_2*a_3*a_4*a_5),                                                            0,   0,   0],\n",
       "[                                                                                                                                                                                                                                                                                                                                                                                                                                  a_0,                                                            0,   0,   0]])"
      ]
     },
     "execution_count": 24,
     "metadata": {},
     "output_type": "execute_result"
    }
   ],
   "source": [
    "routh(p)"
   ]
  },
  {
   "cell_type": "code",
   "execution_count": 26,
   "id": "6d3dcc76",
   "metadata": {},
   "outputs": [
    {
     "data": {
      "text/latex": [
       "$\\displaystyle \\left[\\begin{matrix}1 & 2\\\\3 & 0\\\\2 & 0\\end{matrix}\\right]$"
      ],
      "text/plain": [
       "Matrix([\n",
       "[1, 2],\n",
       "[3, 0],\n",
       "[2, 0]])"
      ]
     },
     "execution_count": 26,
     "metadata": {},
     "output_type": "execute_result"
    }
   ],
   "source": [
    "Coef_den = Gp.den[0][0].tolist()\n",
    "orden_den = len(Coef_den)-1\n",
    "GpDen = 0\n",
    "for val in Coef_den:\n",
    "    GpDen = GpDen + val*s**(orden_den)\n",
    "    orden_den = orden_den-1\n",
    "GpDen = sym.Poly(GpDen, s)\n",
    "routh(GpDen)"
   ]
  },
  {
   "cell_type": "code",
   "execution_count": 32,
   "id": "7f6952b7",
   "metadata": {},
   "outputs": [
    {
     "data": {
      "text/latex": [
       "$\\displaystyle \\left[\\begin{matrix}1 & 3 k_{c} + 2\\\\k_{c} + 3 & 0\\\\3 k_{c} + 2 & 0\\end{matrix}\\right]$"
      ],
      "text/plain": [
       "Matrix([\n",
       "[        1, 3*k_c + 2],\n",
       "[  k_c + 3,         0],\n",
       "[3*k_c + 2,         0]])"
      ]
     },
     "execution_count": 32,
     "metadata": {},
     "output_type": "execute_result"
    }
   ],
   "source": [
    "kc = sym.symbols('k_c', real=True)\n",
    "\n",
    "##########################################\n",
    "Coef_num = Gp.num[0][0].tolist()\n",
    "orden_num = len(Coef_num)-1\n",
    "GpNum = 0\n",
    "for val in Coef_num:\n",
    "    GpNum = GpNum + val*s**(orden_num)\n",
    "    orden_num = orden_num-1\n",
    "GpNum = sym.Poly(GpNum, s)\n",
    "##########################################\n",
    "Coef_den = Gp.den[0][0].tolist()\n",
    "orden_den = len(Coef_den)-1\n",
    "GpDen = 0\n",
    "for val in Coef_den:\n",
    "    GpDen = GpDen + val*s**(orden_den)\n",
    "    orden_den = orden_den-1\n",
    "GpDen = sym.Poly(GpDen, s)\n",
    "#########################################3\n",
    "### DenominadorLC = Nc*Np + Dc*Dp\n",
    "A = routh(kc*GpNum + GpDen)\n",
    "A"
   ]
  },
  {
   "cell_type": "code",
   "execution_count": 33,
   "id": "4413eff4",
   "metadata": {},
   "outputs": [
    {
     "data": {
      "text/latex": [
       "$\\displaystyle k_{c} > - \\frac{2}{3}$"
      ],
      "text/plain": [
       "k_c > -2/3"
      ]
     },
     "execution_count": 33,
     "metadata": {},
     "output_type": "execute_result"
    }
   ],
   "source": [
    "sym.solve([e > 0 for e in A[:, 0]], kc).simplify()"
   ]
  },
  {
   "cell_type": "code",
   "execution_count": 34,
   "id": "5e8e8abb",
   "metadata": {},
   "outputs": [],
   "source": [
    "k1 = -0.66\n",
    "k2 = -0.67\n",
    "\n",
    "GpLC1 = control.feedback(k1*Gp,1)\n",
    "GpLC2 = control.feedback(k2*Gp,1)"
   ]
  },
  {
   "cell_type": "code",
   "execution_count": 35,
   "id": "0148a7af",
   "metadata": {},
   "outputs": [
    {
     "data": {
      "text/latex": [
       "$\\displaystyle \\left[\\begin{matrix}1.0 & 0.02\\\\2.34 & 0\\\\0.02 & 0\\end{matrix}\\right]$"
      ],
      "text/plain": [
       "Matrix([\n",
       "[ 1.0, 0.02],\n",
       "[2.34,    0],\n",
       "[0.02,    0]])"
      ]
     },
     "execution_count": 35,
     "metadata": {},
     "output_type": "execute_result"
    }
   ],
   "source": [
    "routh(k1*GpNum + GpDen)"
   ]
  },
  {
   "cell_type": "code",
   "execution_count": 36,
   "id": "eb6782b5",
   "metadata": {},
   "outputs": [
    {
     "data": {
      "text/latex": [
       "$\\displaystyle \\left[\\begin{matrix}1.0 & -0.0100000000000002\\\\2.33 & 0\\\\-0.0100000000000002 & 0\\end{matrix}\\right]$"
      ],
      "text/plain": [
       "Matrix([\n",
       "[                1.0, -0.0100000000000002],\n",
       "[               2.33,                   0],\n",
       "[-0.0100000000000002,                   0]])"
      ]
     },
     "execution_count": 36,
     "metadata": {},
     "output_type": "execute_result"
    }
   ],
   "source": [
    "routh(k2*GpNum + GpDen)"
   ]
  },
  {
   "cell_type": "code",
   "execution_count": 37,
   "id": "23ae0f7d",
   "metadata": {},
   "outputs": [
    {
     "data": {
      "text/plain": [
       "(array([-2.33142154, -0.00857846]), array([-3.]))"
      ]
     },
     "execution_count": 37,
     "metadata": {},
     "output_type": "execute_result"
    },
    {
     "data": {
      "image/png": "[encoded data removed]",
      "text/plain": [
       "<Figure size 432x288 with 1 Axes>"
      ]
     },
     "metadata": {
      "needs_background": "light"
     },
     "output_type": "display_data"
    }
   ],
   "source": [
    "control.pzmap(GpLC1)"
   ]
  },
  {
   "cell_type": "code",
   "execution_count": 38,
   "id": "9f5b0d26",
   "metadata": {},
   "outputs": [
    {
     "data": {
      "text/plain": [
       "(array([-2.33428397,  0.00428397]), array([-3.]))"
      ]
     },
     "execution_count": 38,
     "metadata": {},
     "output_type": "execute_result"
    },
    {
     "data": {
      "image/png": "[encoded data removed]",
      "text/plain": [
       "<Figure size 432x288 with 1 Axes>"
      ]
     },
     "metadata": {
      "needs_background": "light"
     },
     "output_type": "display_data"
    }
   ],
   "source": [
    "control.pzmap(GpLC2)"
   ]
  },
  {
   "cell_type": "code",
   "execution_count": null,
   "id": "704db87c",
   "metadata": {},
   "outputs": [],
   "source": []
  }
 ],
 "metadata": {
  "kernelspec": {
   "display_name": "Python 3 (ipykernel)",
   "language": "python",
   "name": "python3"
  },
  "language_info": {
   "codemirror_mode": {
    "name": "ipython",
    "version": 3
   },
   "file_extension": ".py",
   "mimetype": "text/x-python",
   "name": "python",
   "nbconvert_exporter": "python",
   "pygments_lexer": "ipython3",
   "version": "3.9.7"
  }
 },
 "nbformat": 4,
 "nbformat_minor": 5
}
