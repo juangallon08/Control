{
 "cells": [
  {
   "cell_type": "code",
   "execution_count": 1,
   "id": "845287fa",
   "metadata": {},
   "outputs": [
    {
     "ename": "SyntaxError",
     "evalue": "invalid syntax (Temp/ipykernel_13764/1053615031.py, line 1)",
     "output_type": "error",
     "traceback": [
      "\u001b[1;36m  File \u001b[1;32m\"C:\\Users\\jgall\\AppData\\Local\\Temp/ipykernel_13764/1053615031.py\"\u001b[1;36m, line \u001b[1;32m1\u001b[0m\n\u001b[1;33m    pip install control\u001b[0m\n\u001b[1;37m        ^\u001b[0m\n\u001b[1;31mSyntaxError\u001b[0m\u001b[1;31m:\u001b[0m invalid syntax\n"
     ]
    }
   ],
   "source": [
    "pip install control\n",
    "import numpy as np\n",
    "import matplotlib.pyplot as plt\n",
    "%matplotlib inline\n",
    "import control"
   ]
  },
  {
   "cell_type": "markdown",
   "id": "c0fbdab3",
   "metadata": {},
   "source": [
    "# Efectos del lazo cerrado\n",
    "\n",
    "## Objetivos\n",
    "- Determinar la estabilidad de sistemas de lazo abierto y lazo cerrado.\n",
    "- Verificar el efecto de cerrar un lazo de control sobre sistemas de  tiempo continuo.\n"
   ]
  },
  {
   "cell_type": "markdown",
   "id": "d8f7ea41",
   "metadata": {},
   "source": [
    "## Lazo cerrado\n",
    "\n",
    "\n",
    "Tomando como base el bucle típico de control de la siguiente figura.\n",
    "\n",
    "![bucle](figuras/bucle_Laplace.PNG)\n",
    "\n",
    "Puede deducirse que la función de transferencia desde la **referencia** $R(s)$ hasta la **controlada** $C(s)$.\n",
    "\n",
    "Observe que el error se define como:\n",
    "\\begin{equation}\n",
    "E(s) = R(s) - H(s) C(s)\n",
    "\\end{equation}\n",
    "La señal **controlada** corresponde a la transformación que realiza el **controlador**, el **actuador** y la **planta** sobre el **error**.\n",
    "\\begin{align}\n",
    "\\color{blue}{C(s)} &= \\left (G_c(s)G_a(s)G_p(s)  \\right )  E(s) \\\\\n",
    "\\color{blue}{C(s)} &= \\left (G_c(s)G_a(s)G_p(s) \\right ) \\left ( \\color{blue}{\\color{blue}{R(s)}} - H(s) \\color{blue}{C(s)} \\right ) \\\\\n",
    "\\color{blue}{C(s)} &= \\left (G_c(s)G_a(s)G_p(s) \\right ) \\color{blue}{\\color{blue}{R(s)}} - \\left (G_c(s)G_a(s)G_p(s)H(s) \\right )\\color{blue}{C(s)} \\\\\n",
    "\\end{align}\n",
    "\\begin{equation}\n",
    "\\color{blue}{C(s)} +  \\left (G_c(s)G_a(s)G_p(s)H(s) \\right )\\color{blue}{C(s)}  =  \\left (G_c(s)G_a(s)G_p(s) \\right ) \\color{blue}{R(s)}\n",
    "\\end{equation}\n",
    "\\begin{equation}\n",
    "\\color{blue}{C(s)} \\left ( 1 +  G_c(s)G_a(s)G_p(s)H(s)\\right ) =   \\left (G_c(s)G_a(s)G_p(s) \\right ) \\color{blue}{R(s)}\n",
    "\\end{equation}\n",
    "\n",
    "Así, la función de transferencia de lazo cerrado es:\n",
    "\n",
    "\\begin{equation}\n",
    "\\frac{C(s)}{R(s)} = \\frac{G_c(s)G_a(s)G_p(s)}{1 + G_c(s)G_a(s)G_p(s)H(s)}\n",
    "\\end{equation}\n",
    "\n",
    "Para efectos prácticos se reune en un solo modelo a los sistemas **Actuador** y **Planta**, pues estos dos sistemas conforman el **Proceso** que se debe controlar. Así, la función de transferencia de lazo cerrado será:\n",
    "\n",
    "\\begin{equation}\n",
    "\\frac{C(s)}{R(s)} = \\frac{G_c(s)G_p(s)}{1 + G_c(s)G_p(s)H(s)}\n",
    "\\end{equation}\n",
    "\n",
    "Tenga en cuenta que $G_p(s)$ incorpora las dinámicas de **Actuador** y **Planta**.\n",
    "\n",
    "El rol del **Sensor** requiere respuestas \"rápidas\" y \"precisas\".\n",
    "\n",
    "El sistema **Controlador** debe ser diseñado para lograr comportamientos deseados en el sistema en lazo cerrado, es decir, se moldea la forma de $C(s)$ a partir de $R(s)$ ajustando $G_c(s)$ de forma apropiada."
   ]
  },
  {
   "cell_type": "markdown",
   "id": "cda88f17",
   "metadata": {},
   "source": [
    "## Lazo abierto vs Lazo cerrado\n",
    "\n",
    "Las características más relevantes de la respuesta transitoria de un sistema está relacionada con la ubicación de sus polos.\n",
    "\n",
    "De las ecuaciones anteriores, puede observarse que los polos se reubican en lazo cerrado de acuerdo con el controlador. Para este analisis considere los modelos lineales definidos como divisiones de polinomios.\n",
    "\n",
    "\\begin{equation}\n",
    "\\frac{C(s)}{R(s)} = \\frac{G_c(s)G_p(s)}{1 + G_c(s)G_p(s)H(s)}\n",
    "\\end{equation}\n",
    "\n",
    "\\begin{equation}\n",
    "\\frac{C(s)}{R(s)} = \\frac{\\frac{N_c(s)}{D_c(s)}\\frac{N_p(s)}{D_p(s)}}{1 + \\frac{N_c(s)}{D_c(s)}\\frac{N_p(s)}{D_p(s)}H(s)}\n",
    "\\end{equation}\n",
    "\n",
    "Considere que el sensor es perfecto, es decir, $H(s)=1$.\n",
    "\n",
    "La función de transferencia de lazo cerrado es:\n",
    "\n",
    "\\begin{equation}\n",
    "\\frac{C(s)}{R(s)} = \\frac{\\frac{N_c(s)N_p(s)}{D_c(s)D_p(s)}}{\\frac{D_c(s)D_p(s) + N_c(s)N_p(s)}{D_c(s)D_p(s)}} = \\frac{N_c(s)N_p(s)}{D_c(s)D_p(s) + N_c(s)N_p(s)}\n",
    "\\end{equation}\n",
    "\n",
    "Mientras la función de transferencia de lazo abierto es:\n",
    "\n",
    "\\begin{equation}\n",
    "\\frac{C(s)}{R(s)} = \\frac{N_c(s)N_p(s)}{D_c(s)D_p(s)}\n",
    "\\end{equation}\n",
    "\n",
    "Observe que los numeradores se mantienen, esto indica que los ceros del sistema en lazo cerrado son los mismos que en lazo abierto.\n",
    "\n",
    "Observe que los denominadores cambian, esto indica que los polos del sistema en lazo cerrado cambian respecto al lazo abierto."
   ]
  },
  {
   "cell_type": "markdown",
   "id": "3546a9a2",
   "metadata": {},
   "source": [
    "**Ejemplo**\n",
    "\n",
    "Suponga un proceso modelado por:\n",
    "\n",
    "$$G_p(s) = \\frac{2}{4s - 3}$$\n",
    "$$G_p(s) = \\frac{-2/3}{\\frac{-4}{3}s + \\frac{3}{3}}$$\n",
    "$$G_p(s) = \\frac{-2/3}{\\frac{-4}{3}s + 1}$$\n",
    "\n",
    "\n",
    "\n",
    "y una estrategia de contro definida por:\n",
    "\n",
    "$$G_c(s) = k_c$$\n"
   ]
  },
  {
   "cell_type": "markdown",
   "id": "a3233561",
   "metadata": {},
   "source": [
    "- ¿El sistema $G_p$ es estable?\n",
    "- ¿Qué efecto tiene realimentar el sistema con el controlador definido?\n",
    "\n",
    "En análisis se realizará a partir de las raíces del sistema teniendo en cuenta que la función de transferencia de lazo cerrado es:\n",
    "\n",
    "\\begin{equation}\n",
    "\\frac{C(s)}{R(s)} =  \\frac{N_c(s)N_p(s)}{D_c(s)D_p(s) + N_c(s)N_p(s)}\n",
    "\\end{equation}\n",
    "\n",
    "$$G_{LC}(s) = \\frac{2k_c}{4s - 3 + 2k_c}$$\n"
   ]
  },
  {
   "cell_type": "code",
   "execution_count": 2,
   "id": "63dddc2f",
   "metadata": {},
   "outputs": [
    {
     "ename": "NameError",
     "evalue": "name 'control' is not defined",
     "output_type": "error",
     "traceback": [
      "\u001b[1;31m---------------------------------------------------------------------------\u001b[0m",
      "\u001b[1;31mNameError\u001b[0m                                 Traceback (most recent call last)",
      "\u001b[1;32m~\\AppData\\Local\\Temp/ipykernel_13764/1269089070.py\u001b[0m in \u001b[0;36m<module>\u001b[1;34m\u001b[0m\n\u001b[0;32m      1\u001b[0m \u001b[1;31m# Se define la función de transferencia del proceso\u001b[0m\u001b[1;33m\u001b[0m\u001b[1;33m\u001b[0m\u001b[0m\n\u001b[1;32m----> 2\u001b[1;33m \u001b[0mGp\u001b[0m \u001b[1;33m=\u001b[0m \u001b[0mcontrol\u001b[0m\u001b[1;33m.\u001b[0m\u001b[0mtf\u001b[0m\u001b[1;33m(\u001b[0m\u001b[1;36m2\u001b[0m\u001b[1;33m,\u001b[0m \u001b[1;33m[\u001b[0m\u001b[1;36m4\u001b[0m\u001b[1;33m,\u001b[0m\u001b[1;33m-\u001b[0m\u001b[1;36m3\u001b[0m\u001b[1;33m]\u001b[0m\u001b[1;33m)\u001b[0m\u001b[1;33m\u001b[0m\u001b[1;33m\u001b[0m\u001b[0m\n\u001b[0m\u001b[0;32m      3\u001b[0m \u001b[0mGp\u001b[0m\u001b[1;33m\u001b[0m\u001b[1;33m\u001b[0m\u001b[0m\n",
      "\u001b[1;31mNameError\u001b[0m: name 'control' is not defined"
     ]
    }
   ],
   "source": [
    "# Se define la función de transferencia del proceso\n",
    "Gp = control.tf(2, [4,-3])\n",
    "Gp"
   ]
  },
  {
   "cell_type": "code",
   "execution_count": 3,
   "id": "4d7e3feb",
   "metadata": {},
   "outputs": [
    {
     "data": {
      "text/plain": [
       "array([0.75])"
      ]
     },
     "execution_count": 3,
     "metadata": {},
     "output_type": "execute_result"
    }
   ],
   "source": [
    "# Se hallan los polos del proceso\n",
    "polos = Gp.pole()\n",
    "polos"
   ]
  },
  {
   "cell_type": "code",
   "execution_count": 4,
   "id": "106aaf93",
   "metadata": {},
   "outputs": [
    {
     "data": {
      "text/plain": [
       "array([], dtype=float64)"
      ]
     },
     "execution_count": 4,
     "metadata": {},
     "output_type": "execute_result"
    }
   ],
   "source": [
    "# Se hallan los ceros del proceso\n",
    "ceros = Gp.zero()\n",
    "ceros"
   ]
  },
  {
   "cell_type": "code",
   "execution_count": 5,
   "id": "45bc7578",
   "metadata": {},
   "outputs": [
    {
     "data": {
      "image/png": "[encoded data removed]",
      "text/plain": [
       "<Figure size 432x288 with 1 Axes>"
      ]
     },
     "metadata": {
      "needs_background": "light"
     },
     "output_type": "display_data"
    }
   ],
   "source": [
    "# Se grafica el mapa de polos y ceros\n",
    "control.pzmap(Gp)\n",
    "plt.grid(True)"
   ]
  },
  {
   "cell_type": "markdown",
   "id": "3272554e",
   "metadata": {},
   "source": [
    "- El sistema no tiene ceros.\n",
    "- El sistema tiene un polo en $s = 0.75$.\n",
    "- La respuesta dinámica del sistema está dominada por $e^{0.75t}$.\n",
    "- Este sistema es inestable."
   ]
  },
  {
   "cell_type": "code",
   "execution_count": 6,
   "id": "de5fb1b1",
   "metadata": {},
   "outputs": [
    {
     "data": {
      "image/png": "[encoded data removed]",
      "text/plain": [
       "<Figure size 432x288 with 1 Axes>"
      ]
     },
     "metadata": {
      "needs_background": "light"
     },
     "output_type": "display_data"
    }
   ],
   "source": [
    "# Se grafica la respuesta al escalón\n",
    "ts = np.linspace(0, 20, 1000)\n",
    "_, y = control.step_response(Gp, ts)\n",
    "plt.plot(ts, y)\n",
    "plt.grid(True)"
   ]
  },
  {
   "cell_type": "markdown",
   "id": "9e7354a7",
   "metadata": {},
   "source": [
    "Se tomarán distintos escenarios para $G_c(s) = k_c$.\n"
   ]
  },
  {
   "cell_type": "code",
   "execution_count": 7,
   "id": "31731126",
   "metadata": {},
   "outputs": [],
   "source": [
    "Gc1 = 0.01\n",
    "Gc2 = 0.1\n",
    "Gc3 = 1.5\n",
    "Gc4 = 3\n",
    "Gc5 = 5\n",
    "Gc6 = 10\n",
    "Gc7 = 1.501"
   ]
  },
  {
   "cell_type": "code",
   "execution_count": 8,
   "id": "80620add",
   "metadata": {},
   "outputs": [
    {
     "data": {
      "text/latex": [
       "$$\\frac{0.02}{4 s - 2.98}$$"
      ],
      "text/plain": [
       "TransferFunction(array([0.02]), array([ 4.  , -2.98]))"
      ]
     },
     "execution_count": 8,
     "metadata": {},
     "output_type": "execute_result"
    }
   ],
   "source": [
    "# Caso 1\n",
    "G_LC1 = control.feedback(Gc1*Gp,1)\n",
    "_, y1 = control.step_response(G_LC1, ts)\n",
    "\n",
    "G_LC1"
   ]
  },
  {
   "cell_type": "code",
   "execution_count": 9,
   "id": "4b6d04a3",
   "metadata": {},
   "outputs": [
    {
     "data": {
      "text/latex": [
       "$$\\frac{0.2}{4 s - 2.8}$$"
      ],
      "text/plain": [
       "TransferFunction(array([0.2]), array([ 4. , -2.8]))"
      ]
     },
     "execution_count": 9,
     "metadata": {},
     "output_type": "execute_result"
    }
   ],
   "source": [
    "# Caso 2\n",
    "G_LC2 = control.feedback(Gc2*Gp,1)\n",
    "_, y2 = control.step_response(G_LC2, ts)\n",
    "G_LC2"
   ]
  },
  {
   "cell_type": "code",
   "execution_count": 10,
   "id": "133e7c1e",
   "metadata": {},
   "outputs": [
    {
     "data": {
      "text/latex": [
       "$$\\frac{3}{4 s}$$"
      ],
      "text/plain": [
       "TransferFunction(array([3.]), array([4., 0.]))"
      ]
     },
     "execution_count": 10,
     "metadata": {},
     "output_type": "execute_result"
    }
   ],
   "source": [
    "# Caso 3\n",
    "G_LC3 = control.feedback(Gc3*Gp,1)\n",
    "_, y3 = control.step_response(G_LC3, ts)\n",
    "G_LC3"
   ]
  },
  {
   "cell_type": "code",
   "execution_count": 11,
   "id": "2317292f",
   "metadata": {},
   "outputs": [
    {
     "data": {
      "text/latex": [
       "$$\\frac{6}{4 s + 3}$$"
      ],
      "text/plain": [
       "TransferFunction(array([6.]), array([4., 3.]))"
      ]
     },
     "execution_count": 11,
     "metadata": {},
     "output_type": "execute_result"
    }
   ],
   "source": [
    "# Caso 4\n",
    "G_LC4 = control.feedback(Gc4*Gp,1)\n",
    "_, y4 = control.step_response(G_LC4, ts)\n",
    "G_LC4"
   ]
  },
  {
   "cell_type": "code",
   "execution_count": 12,
   "id": "c6ba16f6",
   "metadata": {},
   "outputs": [
    {
     "data": {
      "text/latex": [
       "$$\\frac{10}{4 s + 7}$$"
      ],
      "text/plain": [
       "TransferFunction(array([10.]), array([4., 7.]))"
      ]
     },
     "execution_count": 12,
     "metadata": {},
     "output_type": "execute_result"
    }
   ],
   "source": [
    "# Caso 5\n",
    "G_LC5 = control.feedback(Gc5*Gp,1)\n",
    "_, y5 = control.step_response(G_LC5, ts)\n",
    "G_LC5"
   ]
  },
  {
   "cell_type": "code",
   "execution_count": 13,
   "id": "a0f8e63e",
   "metadata": {},
   "outputs": [
    {
     "data": {
      "text/latex": [
       "$$\\frac{20}{4 s + 17}$$"
      ],
      "text/plain": [
       "TransferFunction(array([20.]), array([ 4., 17.]))"
      ]
     },
     "execution_count": 13,
     "metadata": {},
     "output_type": "execute_result"
    }
   ],
   "source": [
    "# Caso 6\n",
    "G_LC6 = control.feedback(Gc6*Gp,1)\n",
    "_, y6 = control.step_response(G_LC6, ts)\n",
    "G_LC6"
   ]
  },
  {
   "cell_type": "code",
   "execution_count": 14,
   "id": "2636ba50",
   "metadata": {},
   "outputs": [
    {
     "data": {
      "text/latex": [
       "$$\\frac{3.002}{4 s + 0.002}$$"
      ],
      "text/plain": [
       "TransferFunction(array([3.002]), array([4.e+00, 2.e-03]))"
      ]
     },
     "execution_count": 14,
     "metadata": {},
     "output_type": "execute_result"
    }
   ],
   "source": [
    "# Caso 7\n",
    "G_LC7 = control.feedback(Gc7*Gp,1)\n",
    "_, y7 = control.step_response(G_LC7, ts)\n",
    "G_LC7"
   ]
  },
  {
   "cell_type": "code",
   "execution_count": 15,
   "id": "7eb98a00",
   "metadata": {},
   "outputs": [
    {
     "name": "stderr",
     "output_type": "stream",
     "text": [
      "C:\\Users\\Usuario\\.conda\\envs\\SistDin\\lib\\site-packages\\control\\grid.py:152: MatplotlibDeprecationWarning: Adding an axes using the same arguments as a previous axes currently reuses the earlier instance.  In a future version, a new instance will always be created and returned.  Meanwhile, this warning can be suppressed, and the future behavior ensured, by passing a unique label to each axes instance.\n",
      "  ax = plt.axes()\n"
     ]
    },
    {
     "data": {
      "image/png": "[encoded data removed]",
      "text/plain": [
       "<Figure size 432x288 with 1 Axes>"
      ]
     },
     "metadata": {
      "needs_background": "light"
     },
     "output_type": "display_data"
    }
   ],
   "source": [
    "# Se grafica el mapa de polos y ceros para todos los escenarios\n",
    "control.pzmap(Gp)\n",
    "control.pzmap(G_LC1)\n",
    "control.pzmap(G_LC2)\n",
    "control.pzmap(G_LC3)\n",
    "control.pzmap(G_LC4)\n",
    "control.pzmap(G_LC5)\n",
    "control.pzmap(G_LC6)\n",
    "control.pzmap(G_LC7)\n",
    "plt.grid(True)"
   ]
  },
  {
   "cell_type": "code",
   "execution_count": 16,
   "id": "f66cd620",
   "metadata": {},
   "outputs": [
    {
     "data": {
      "image/png": "[encoded data removed]",
      "text/plain": [
       "<Figure size 432x288 with 1 Axes>"
      ]
     },
     "metadata": {
      "needs_background": "light"
     },
     "output_type": "display_data"
    }
   ],
   "source": [
    "# Se grafica la respuesta al escalón para todos los escenarios\n",
    "plt.plot(ts, y,ts, y1,ts, y2,ts, y3,ts, y4,ts, y5,ts, y6)\n",
    "plt.legend(['Proceso',\n",
    "            'k=' + str(Gc1),\n",
    "            'k=' + str(Gc2),\n",
    "            'k=' + str(Gc3),\n",
    "            'k=' + str(Gc4),\n",
    "            'k=' + str(Gc5),\n",
    "            'k=' + str(Gc6),\n",
    "            'k=' + str(Gc7)\n",
    "           ])\n",
    "plt.grid(True)"
   ]
  },
  {
   "cell_type": "code",
   "execution_count": 17,
   "id": "4a049900",
   "metadata": {},
   "outputs": [
    {
     "data": {
      "image/png": "[encoded data removed]",
      "text/plain": [
       "<Figure size 432x288 with 1 Axes>"
      ]
     },
     "metadata": {
      "needs_background": "light"
     },
     "output_type": "display_data"
    }
   ],
   "source": [
    "# Se grafica la respuesta al escalón para los escenarios inestables\n",
    "plt.plot(ts, y,ts, y1,ts, y2,ts, y3)\n",
    "plt.legend(['Proceso',\n",
    "            'k=' + str(Gc1),\n",
    "            'k=' + str(Gc2),\n",
    "            'k=' + str(Gc3)])\n",
    "plt.grid(True)"
   ]
  },
  {
   "cell_type": "code",
   "execution_count": 18,
   "id": "d9ef7230",
   "metadata": {},
   "outputs": [
    {
     "data": {
      "image/png": "[encoded data removed]",
      "text/plain": [
       "<Figure size 432x288 with 1 Axes>"
      ]
     },
     "metadata": {
      "needs_background": "light"
     },
     "output_type": "display_data"
    }
   ],
   "source": [
    "# La respuesta al escalón para los escenarios estables y el integrador\n",
    "plt.plot(ts, y3,ts, y4,ts, y5,ts,y6,ts,y7)\n",
    "plt.legend(['k=' + str(Gc3),\n",
    "            'k=' + str(Gc4),\n",
    "            'k=' + str(Gc5),\n",
    "            'k=' + str(Gc6),\n",
    "           'k=' + str(Gc7)])\n",
    "plt.grid(True)"
   ]
  },
  {
   "cell_type": "markdown",
   "id": "a7886ac4",
   "metadata": {},
   "source": [
    "**Observaciones**\n",
    "\n",
    "- El proceso es de primer orden inestable.\n",
    "- El controlador de modelo $G_c(s) = k_c$ fue capaz de estabilizar al sistema a partir de un valor determinado de $k_c$\n",
    "- Una vez estable, el efecto de aumentar $k_c$ se aprecia en la reducción del tiempo de estabilización.\n",
    "\n",
    "**Preguntas**\n",
    "- ¿Puede identificar qué efecto tiene aumentar $k_c$ sobre el valor final de la señal controlada?\n",
    "- ¿Puede identificar qué efecto tiene aumentar $k_c$ sobre el valor final de la señal de error?"
   ]
  },
  {
   "cell_type": "markdown",
   "id": "0f005b61",
   "metadata": {},
   "source": [
    "------------------------\n"
   ]
  },
  {
   "cell_type": "markdown",
   "id": "a21d8a02",
   "metadata": {},
   "source": [
    "1. Repita el análisis para un proceso modelado por\n",
    "\n",
    "$$ G_p(s) = \\frac{0.75}{s^2 + 4s + 2}$$\n",
    "\n",
    "y una estrategia de contro definida por:\n",
    "\n",
    "$$G_c(s) = k_c$$\n",
    "\n",
    "- ¿El sistema $G_p$ es estable?\n",
    "- ¿Qué efecto tiene realimentar el sistema con el controlador definido?\n",
    "- ¿Puede identificar qué efecto tiene aumentar $k_c$ sobre el valor final de la señal controlada?\n",
    "- ¿Puede identificar qué efecto tiene aumentar $k_c$ sobre el valor final de la señal de error?\n",
    "\n"
   ]
  },
  {
   "cell_type": "markdown",
   "id": "6b253674",
   "metadata": {},
   "source": [
    "2. Repita el análisis para un proceso modelado por\n",
    "\n",
    "$$ G_p(s) = \\frac{2}{s^3 + 2s^2 + 4s + 2}$$\n",
    "\n",
    "y una estrategia de contro definida por:\n",
    "\n",
    "$$G_c(s) = k_c$$\n",
    "\n",
    "- ¿El sistema $G_p$ es estable?\n",
    "- ¿Qué efecto tiene realimentar el sistema con el controlador definido?\n",
    "- ¿Puede identificar qué efecto tiene aumentar $k_c$ sobre el valor final de la señal controlada?\n",
    "- ¿Puede identificar qué efecto tiene aumentar $k_c$ sobre el valor final de la señal de error?"
   ]
  },
  {
   "cell_type": "code",
   "execution_count": null,
   "id": "169fa682",
   "metadata": {},
   "outputs": [],
   "source": []
  }
 ],
 "metadata": {
  "kernelspec": {
   "display_name": "Python 3 (ipykernel)",
   "language": "python",
   "name": "python3"
  },
  "language_info": {
   "codemirror_mode": {
    "name": "ipython",
    "version": 3
   },
   "file_extension": ".py",
   "mimetype": "text/x-python",
   "name": "python",
   "nbconvert_exporter": "python",
   "pygments_lexer": "ipython3",
   "version": "3.9.7"
  },
  "latex_envs": {
   "bibliofile": "biblio.bib",
   "cite_by": "apalike",
   "current_citInitial": 1,
   "eqLabelWithNumbers": true,
   "eqNumInitial": 0
  }
 },
 "nbformat": 4,
 "nbformat_minor": 5
}
